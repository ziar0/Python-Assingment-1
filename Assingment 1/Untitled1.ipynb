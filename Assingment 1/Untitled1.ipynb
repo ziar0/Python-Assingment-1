{
 "cells": [
  {
   "cell_type": "code",
   "execution_count": 8,
   "id": "104c2847",
   "metadata": {},
   "outputs": [
    {
     "name": "stdout",
     "output_type": "stream",
     "text": [
      "Twinkle twinkle little star,                            How I wonder what you are!           Up above the world so high,                  Like a diamond in the sky,              Twinkle twinkle little star,                          How I wonder what you are\n"
     ]
    }
   ],
   "source": [
    "print (\"Twinkle twinkle little star,                            How I wonder what you are!           Up above the world so high,                  Like a diamond in the sky,              Twinkle twinkle little star,                          How I wonder what you are\");"
   ]
  },
  {
   "cell_type": "code",
   "execution_count": 10,
   "id": "5e0a04e7",
   "metadata": {},
   "outputs": [],
   "source": [
    "import sys"
   ]
  },
  {
   "cell_type": "code",
   "execution_count": 11,
   "id": "4287d3b0",
   "metadata": {},
   "outputs": [
    {
     "name": "stdout",
     "output_type": "stream",
     "text": [
      "3.9.7 (default, Sep 16 2021, 16:59:28) [MSC v.1916 64 bit (AMD64)]\n"
     ]
    }
   ],
   "source": [
    "print(sys.version)"
   ]
  },
  {
   "cell_type": "code",
   "execution_count": 19,
   "id": "74c0fac2",
   "metadata": {},
   "outputs": [
    {
     "name": "stdout",
     "output_type": "stream",
     "text": [
      "Current date and time :\n",
      "2022-01-01 20:00:07\n"
     ]
    }
   ],
   "source": [
    "import datetime\n",
    "now = datetime.datetime.now()\n",
    "print (\"Current date and time :\")\n",
    "print (now.strftime(\"%Y-%m-%d %H:%M:%S\"))"
   ]
  },
  {
   "cell_type": "code",
   "execution_count": null,
   "id": "b55c3974",
   "metadata": {},
   "outputs": [],
   "source": [
    "from math import pi \n",
    "r = float(input(\"Input the radius of the circle :\"))\n",
    "print (\"The area of the circle with radius \"+ str(r) + \" is: \" + str(pi * r**2))"
   ]
  },
  {
   "cell_type": "code",
   "execution_count": null,
   "id": "4551b176",
   "metadata": {},
   "outputs": [],
   "source": [
    "firstname = input(\"Input your First Name : \")\n",
    "lastname = input(\"Input your Last Name : \")\n",
    "print (\"Hello \" + lastname + \" \" + firstname)"
   ]
  },
  {
   "cell_type": "code",
   "execution_count": null,
   "id": "0231f322",
   "metadata": {},
   "outputs": [],
   "source": []
  }
 ],
 "metadata": {
  "kernelspec": {
   "display_name": "Python 3 (ipykernel)",
   "language": "python",
   "name": "python3"
  },
  "language_info": {
   "codemirror_mode": {
    "name": "ipython",
    "version": 3
   },
   "file_extension": ".py",
   "mimetype": "text/x-python",
   "name": "python",
   "nbconvert_exporter": "python",
   "pygments_lexer": "ipython3",
   "version": "3.9.7"
  }
 },
 "nbformat": 4,
 "nbformat_minor": 5
}
